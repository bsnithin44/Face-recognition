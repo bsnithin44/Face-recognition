{
 "cells": [
  {
   "cell_type": "code",
   "execution_count": 1,
   "metadata": {},
   "outputs": [],
   "source": [
    "import pandas as pd\n",
    "import matplotlib.pyplot\n",
    "from pandas.io.json import json_normalize\n",
    "import os,requests,json"
   ]
  },
  {
   "cell_type": "code",
   "execution_count": 3,
   "metadata": {},
   "outputs": [
    {
     "name": "stdout",
     "output_type": "stream",
     "text": [
      "[{\"faceId\": \"a2bb7648-ebb3-46f0-8258-a9c3fcff38f8\", \"faceRectangle\": {\"top\": 621, \"left\": 616, \"width\": 195, \"height\": 195}, \"faceAttributes\": {\"smile\": 0.0, \"headPose\": {\"pitch\": 0.0, \"roll\": 6.8, \"yaw\": 3.7}, \"gender\": \"male\", \"age\": 37.0, \"facialHair\": {\"moustache\": 0.4, \"beard\": 0.4, \"sideburns\": 0.1}, \"glasses\": \"NoGlasses\", \"emotion\": {\"anger\": 0.0, \"contempt\": 0.0, \"disgust\": 0.0, \"fear\": 0.0, \"happiness\": 0.0, \"neutral\": 0.999, \"sadness\": 0.001, \"surprise\": 0.0}, \"blur\": {\"blurLevel\": \"high\", \"value\": 0.89}, \"exposure\": {\"exposureLevel\": \"goodExposure\", \"value\": 0.51}, \"noise\": {\"noiseLevel\": \"medium\", \"value\": 0.59}, \"makeup\": {\"eyeMakeup\": true, \"lipMakeup\": false}, \"accessories\": [], \"occlusion\": {\"foreheadOccluded\": false, \"eyeOccluded\": false, \"mouthOccluded\": false}, \"hair\": {\"bald\": 0.04, \"invisible\": false, \"hairColor\": [{\"color\": \"black\", \"confidence\": 0.98}, {\"color\": \"brown\", \"confidence\": 0.87}, {\"color\": \"gray\", \"confidence\": 0.85}, {\"color\": \"other\", \"confidence\": 0.25}, {\"color\": \"blond\", \"confidence\": 0.07}, {\"color\": \"red\", \"confidence\": 0.02}]}}}, {\"faceId\": \"a5295562-37aa-4148-93f1-27eb038e3d8f\", \"faceRectangle\": {\"top\": 693, \"left\": 1503, \"width\": 180, \"height\": 180}, \"faceAttributes\": {\"smile\": 0.003, \"headPose\": {\"pitch\": 0.0, \"roll\": 2.0, \"yaw\": -2.2}, \"gender\": \"female\", \"age\": 56.0, \"facialHair\": {\"moustache\": 0.0, \"beard\": 0.0, \"sideburns\": 0.0}, \"glasses\": \"NoGlasses\", \"emotion\": {\"anger\": 0.0, \"contempt\": 0.001, \"disgust\": 0.0, \"fear\": 0.0, \"happiness\": 0.003, \"neutral\": 0.984, \"sadness\": 0.011, \"surprise\": 0.0}, \"blur\": {\"blurLevel\": \"high\", \"value\": 0.83}, \"exposure\": {\"exposureLevel\": \"goodExposure\", \"value\": 0.41}, \"noise\": {\"noiseLevel\": \"high\", \"value\": 0.76}, \"makeup\": {\"eyeMakeup\": false, \"lipMakeup\": false}, \"accessories\": [], \"occlusion\": {\"foreheadOccluded\": false, \"eyeOccluded\": false, \"mouthOccluded\": false}, \"hair\": {\"bald\": 0.06, \"invisible\": false, \"hairColor\": [{\"color\": \"black\", \"confidence\": 0.99}, {\"color\": \"gray\", \"confidence\": 0.89}, {\"color\": \"other\", \"confidence\": 0.64}, {\"color\": \"brown\", \"confidence\": 0.34}, {\"color\": \"blond\", \"confidence\": 0.07}, {\"color\": \"red\", \"confidence\": 0.03}]}}}]\n"
     ]
    }
   ],
   "source": [
    "\n",
    "subscription_key = '0b138b19f25a45379d64a4739b16aaf7'\n",
    "\n",
    "face_api_url = 'https://southeastasia.api.cognitive.microsoft.com/face/v1.0/detect'\n",
    "\n",
    "image_url = 'https://upload.wikimedia.org/wikipedia/commons/3/37/Dagestani_man_and_woman.jpg'\n",
    "\n",
    "headers = { 'Ocp-Apim-Subscription-Key': subscription_key }\n",
    "    \n",
    "params = {\n",
    "    'returnFaceId': 'true',\n",
    "    'returnFaceLandmarks': 'false',\n",
    "    'returnFaceAttributes': 'age,gender,headPose,smile,facialHair,glasses,emotion,hair,makeup,occlusion,accessories,blur,exposure,noise',\n",
    "}\n",
    "\n",
    "response = requests.post(face_api_url,params=params, headers=headers, json={\"url\": image_url})\n",
    "print(json.dumps(response.json()))"
   ]
  },
  {
   "cell_type": "code",
   "execution_count": 6,
   "metadata": {},
   "outputs": [
    {
     "data": {
      "text/plain": [
       "'a2bb7648-ebb3-46f0-8258-a9c3fcff38f8'"
      ]
     },
     "execution_count": 6,
     "metadata": {},
     "output_type": "execute_result"
    }
   ],
   "source": [
    "response.json()[0]['faceId']"
   ]
  },
  {
   "cell_type": "code",
   "execution_count": null,
   "metadata": {},
   "outputs": [],
   "source": []
  }
 ],
 "metadata": {
  "kernelspec": {
   "display_name": "Python 3",
   "language": "python",
   "name": "python3"
  },
  "language_info": {
   "codemirror_mode": {
    "name": "ipython",
    "version": 3
   },
   "file_extension": ".py",
   "mimetype": "text/x-python",
   "name": "python",
   "nbconvert_exporter": "python",
   "pygments_lexer": "ipython3",
   "version": "3.6.7"
  }
 },
 "nbformat": 4,
 "nbformat_minor": 2
}
